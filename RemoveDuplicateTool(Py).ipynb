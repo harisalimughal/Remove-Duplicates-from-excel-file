{
 "cells": [
  {
   "cell_type": "code",
   "execution_count": 16,
   "id": "51e51fa3",
   "metadata": {},
   "outputs": [
    {
     "name": "stdout",
     "output_type": "stream",
     "text": [
      "DONE\n"
     ]
    }
   ],
   "source": [
    "import pandas as pd\n",
    "\n",
    "# Read the Excel file\n",
    "file_path = r'C:\\Users\\RM\\Documents\\JAN FILE.xlsx'\n",
    "\n",
    "# Read all sheet names from the Excel file\n",
    "xl = pd.ExcelFile(file_path)\n",
    "sheet_names = xl.sheet_names\n",
    "\n",
    "# Initialize an empty dictionary to store grouped DataFrames\n",
    "grouped_dfs = {}\n",
    "\n",
    "# Process each sheet\n",
    "for sheet_name in sheet_names:\n",
    "    # Read data from the current sheet\n",
    "    df = pd.read_excel(file_path, sheet_name=sheet_name)\n",
    "\n",
    "    # Convert columns to lowercase\n",
    "    for col in df.columns:\n",
    "        df[col] = df[col].astype(str).str.lower()\n",
    "\n",
    "    # Assuming different column names for each sheet\n",
    "    if sheet_name == 'SELLERCAT':\n",
    "        group_col = 'Seller Name'\n",
    "        agg_col = 'Category L2'\n",
    "        \n",
    "    elif sheet_name == 'SELLERLIST':\n",
    "        group_col = 'Seller Name'\n",
    "        agg_col = 'Listing Name'\n",
    "\n",
    "    else:\n",
    "        # Add additional elif blocks for more sheets if needed\n",
    "        continue\n",
    "\n",
    "    # Group by the specified column and aggregate another column into a list\n",
    "    grouped_df = df.groupby(group_col)[agg_col].agg(', '.join).reset_index()\n",
    "\n",
    "    # Store the grouped DataFrame in the dictionary with the original case sheet name\n",
    "    grouped_dfs[sheet_name] = grouped_df\n",
    "\n",
    "# Write each grouped DataFrame to a separate sheet in the Excel file\n",
    "with pd.ExcelWriter(r'C:\\Users\\RM\\Documents\\RESULTT.xlsx', engine='xlsxwriter') as writer:\n",
    "    for sheet_name, grouped_df in grouped_dfs.items():\n",
    "        grouped_df.to_excel(writer, sheet_name=sheet_name, index=False)\n",
    "\n",
    "print('DONE')\n"
   ]
  },
  {
   "cell_type": "code",
   "execution_count": null,
   "id": "5f919ed8",
   "metadata": {},
   "outputs": [],
   "source": []
  }
 ],
 "metadata": {
  "kernelspec": {
   "display_name": "Python 3 (ipykernel)",
   "language": "python",
   "name": "python3"
  },
  "language_info": {
   "codemirror_mode": {
    "name": "ipython",
    "version": 3
   },
   "file_extension": ".py",
   "mimetype": "text/x-python",
   "name": "python",
   "nbconvert_exporter": "python",
   "pygments_lexer": "ipython3",
   "version": "3.11.4"
  }
 },
 "nbformat": 4,
 "nbformat_minor": 5
}
